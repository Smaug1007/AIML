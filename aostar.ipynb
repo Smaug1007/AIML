{
 "cells": [
  {
   "cell_type": "code",
   "execution_count": 2,
   "id": "db6e882b",
   "metadata": {},
   "outputs": [
    {
     "name": "stdout",
     "output_type": "stream",
     "text": [
      "Current open set: ['A']\n",
      "Processing node: A with f_score: 7\n",
      "Adding child to open set: B\n",
      "Updating child: B, g_score: 1, f_score: 7\n",
      "Adding child to open set: C\n",
      "Updating child: C, g_score: 1, f_score: 3\n",
      "Current open set: ['B', 'C']\n",
      "Processing node: C with f_score: 3\n",
      "Adding child to open set: D\n",
      "Updating child: D, g_score: 2, f_score: 3\n",
      "Current open set: ['B', 'D']\n",
      "Processing node: D with f_score: 3\n",
      "Adding child to open set: E\n",
      "Updating child: E, g_score: 3, f_score: 3\n",
      "Current open set: ['E', 'B']\n",
      "Processing node: E with f_score: 3\n",
      "Path found: ['A', 'C', 'D', 'E']\n"
     ]
    }
   ],
   "source": [
    "class Node:\n",
    "    def __init__(self, name, heuristic):\n",
    "        self.name = name\n",
    "        self.heuristic = heuristic\n",
    "        self.children = []\n",
    "        self.parent = None\n",
    "        self.g_score = float('inf')\n",
    "        self.f_score = float('inf')\n",
    "\n",
    "def ao_star(root, goal):\n",
    "    open_set = {root}\n",
    "    root.g_score = 0\n",
    "    root.f_score = root.heuristic\n",
    "\n",
    "    while open_set:\n",
    "        print(f\"Current open set: {[node.name for node in open_set]}\")\n",
    "        \n",
    "        current = min(open_set, key=lambda node: node.f_score)\n",
    "        print(f\"Processing node: {current.name} with f_score: {current.f_score}\")\n",
    "\n",
    "        if current.name == goal:\n",
    "            return reconstruct_path(current)\n",
    "\n",
    "        open_set.remove(current)\n",
    "\n",
    "        for child in current.children:\n",
    "            if child not in open_set:\n",
    "                open_set.add(child)\n",
    "                print(f\"Adding child to open set: {child.name}\")\n",
    "\n",
    "            tentative_g_score = current.g_score + 1\n",
    "            if tentative_g_score < child.g_score:\n",
    "                child.parent = current\n",
    "                child.g_score = tentative_g_score\n",
    "                child.f_score = child.g_score + child.heuristic\n",
    "                print(f\"Updating child: {child.name}, g_score: {child.g_score}, f_score: {child.f_score}\")\n",
    "\n",
    "    return None\n",
    "\n",
    "def reconstruct_path(node):\n",
    "    path = []\n",
    "    while node:\n",
    "        path.append(node.name)\n",
    "        node = node.parent\n",
    "    return path[::-1]\n",
    "\n",
    "\n",
    "A = Node('A', 7)\n",
    "B = Node('B', 6)\n",
    "C = Node('C', 2)\n",
    "D = Node('D', 1)\n",
    "E = Node('E', 0)\n",
    "\n",
    "\n",
    "A.children = [B, C]\n",
    "B.children = [D]\n",
    "C.children = [D]\n",
    "D.children = [E]\n",
    "\n",
    "\n",
    "path = ao_star(A, 'E')\n",
    "print(\"Path found:\", path)"
   ]
  },
  {
   "cell_type": "code",
   "execution_count": null,
   "id": "2e5312aa",
   "metadata": {},
   "outputs": [],
   "source": []
  }
 ],
 "metadata": {
  "kernelspec": {
   "display_name": "Python 3 (ipykernel)",
   "language": "python",
   "name": "python3"
  },
  "language_info": {
   "codemirror_mode": {
    "name": "ipython",
    "version": 3
   },
   "file_extension": ".py",
   "mimetype": "text/x-python",
   "name": "python",
   "nbconvert_exporter": "python",
   "pygments_lexer": "ipython3",
   "version": "3.9.12"
  }
 },
 "nbformat": 4,
 "nbformat_minor": 5
}
