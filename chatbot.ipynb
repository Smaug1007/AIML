{
 "cells": [
  {
   "cell_type": "code",
   "execution_count": null,
   "id": "cf485d66",
   "metadata": {},
   "outputs": [
    {
     "name": "stdout",
     "output_type": "stream",
     "text": [
      "Welcome to the chatbot! Type 'bye' to exit.\n",
      "You: hello\n",
      "Chatbot: How can I help you?\n",
      "You: what is your name\n",
      "Chatbot: You can call me Prihtvi ka Rakhvala!\n",
      "You: who are you\n",
      "Chatbot: I'm sorry, I don't understand that.\n",
      "You: how are you\n",
      "Chatbot: I'm just flying high in the air, fighting evil\n"
     ]
    }
   ],
   "source": [
    "import random\n",
    "\n",
    "class SimpleChatbot:\n",
    "    def __init__(self):\n",
    "        self.responses = {\n",
    "            \"hello\": [\"Hello how are you msc37 user!\", \"Hello!\", \"Greetings!\", \"How can I help you?\"],\n",
    "            \"how are you\": [\"I'm just flying high in the air, fighting evil\", \"Doing well, how about you?\", \"I'm here to assist you!\"],\n",
    "            \"what is your name\": [\"My name is Shaktiman!\", \"You can call me Prihtvi ka Rakhvala!\", \"I'm just a simple chatbot.\"],\n",
    "            \"bye\": [\"Goodbye!\", \"See you later!\", \"Take care!\"],\n",
    "        }\n",
    "\n",
    "    def get_response(self, user_input):\n",
    "        user_input = user_input.lower()  \n",
    "        for key in self.responses:\n",
    "            if key in user_input: \n",
    "                return random.choice(self.responses[key])\n",
    "        return \"I'm sorry, I don't understand that.\"\n",
    "\n",
    "def main():\n",
    "    print(\"Welcome to the chatbot! Type 'bye' to exit.\")\n",
    "    chatbot = SimpleChatbot()\n",
    "    \n",
    "    while True:\n",
    "        user_input = input(\"You: \")\n",
    "        if user_input.lower() == 'bye': \n",
    "            print(\"Chatbot: Goodbye!\")\n",
    "            break\n",
    "        response = chatbot.get_response(user_input)\n",
    "        print(f\"Chatbot: {response}\")\n",
    "\n",
    "if __name__ == \"__main__\":\n",
    "    main()"
   ]
  },
  {
   "cell_type": "code",
   "execution_count": null,
   "id": "73292f98",
   "metadata": {},
   "outputs": [],
   "source": []
  }
 ],
 "metadata": {
  "kernelspec": {
   "display_name": "Python 3 (ipykernel)",
   "language": "python",
   "name": "python3"
  },
  "language_info": {
   "codemirror_mode": {
    "name": "ipython",
    "version": 3
   },
   "file_extension": ".py",
   "mimetype": "text/x-python",
   "name": "python",
   "nbconvert_exporter": "python",
   "pygments_lexer": "ipython3",
   "version": "3.9.12"
  }
 },
 "nbformat": 4,
 "nbformat_minor": 5
}
