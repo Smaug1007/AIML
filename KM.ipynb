{
 "cells": [
  {
   "cell_type": "code",
   "execution_count": null,
   "id": "bb2bc90b",
   "metadata": {},
   "outputs": [
    {
     "name": "stdout",
     "output_type": "stream",
     "text": [
      "Gaussian Naïve Bayes Accuracy: 0.9\n",
      "Gaussian Naïve Bayes Confusion Matrix:\n",
      " [[65  3]\n",
      " [ 7 25]] \n",
      "\n",
      "\n",
      "Multinomial Naïve Bayes Accuracy: 0.68\n",
      "Multinomial Naïve Bayes Confusion Matrix:\n",
      " [[68  0]\n",
      " [32  0]] \n",
      "\n",
      "\n",
      "Bernoulli Naïve Bayes Accuracy: 0.79\n",
      "Bernoulli Naïve Bayes Confusion Matrix:\n",
      " [[63  5]\n",
      " [16 16]] \n",
      "\n",
      "\n"
     ]
    }
   ],
   "source": [
    "import numpy as np\n",
    "import matplotlib.pyplot as plt\n",
    "from sklearn.datasets import make_blobs\n",
    "from sklearn.cluster import KMeans\n",
    "\n",
    "\n",
    "n_samples = 300\n",
    "n_features = 2\n",
    "n_clusters = 4\n",
    "random_state = 42\n",
    "\n",
    "X, y_true = make_blobs(n_samples=n_samples, centers=n_clusters, n_features=n_features, random_state=random_state)\n",
    "\n",
    "\n",
    "plt.figure(figsize=(8, 6))\n",
    "plt.scatter(X[:, 0], X[:, 1], s=30, cmap='viridis')\n",
    "plt.title('Generated Synthetic Data')\n",
    "plt.xlabel('Feature 1')\n",
    "plt.ylabel('Feature 2')\n",
    "plt.grid()\n",
    "plt.show()\n",
    "\n",
    "\n",
    "kmeans = KMeans(n_clusters=n_clusters, random_state=random_state)\n",
    "y_kmeans = kmeans.fit_predict(X)\n",
    "\n",
    "\n",
    "plt.figure(figsize=(8, 6))\n",
    "plt.scatter(X[:, 0], X[:, 1], c=y_kmeans, s=30, cmap='viridis', label='Data Points')\n",
    "plt.scatter(kmeans.cluster_centers_[:, 0], kmeans.cluster_centers_[:, 1], c='red', s=200, marker='X', label='Centroids')\n",
    "plt.title('K-Means Clustering')\n",
    "plt.xlabel('Feature 1')\n",
    "plt.ylabel('Feature 2')\n",
    "plt.legend()\n",
    "plt.grid()\n",
    "plt.show()"
   ]
  },
  {
   "cell_type": "code",
   "execution_count": null,
   "id": "2944a6d9",
   "metadata": {},
   "outputs": [],
   "source": []
  }
 ],
 "metadata": {
  "kernelspec": {
   "display_name": "Python 3 (ipykernel)",
   "language": "python",
   "name": "python3"
  },
  "language_info": {
   "codemirror_mode": {
    "name": "ipython",
    "version": 3
   },
   "file_extension": ".py",
   "mimetype": "text/x-python",
   "name": "python",
   "nbconvert_exporter": "python",
   "pygments_lexer": "ipython3",
   "version": "3.9.12"
  }
 },
 "nbformat": 4,
 "nbformat_minor": 5
}
