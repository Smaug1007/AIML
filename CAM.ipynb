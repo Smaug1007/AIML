{
 "cells": [
  {
   "cell_type": "code",
   "execution_count": 1,
   "id": "9e9aefcd",
   "metadata": {},
   "outputs": [
    {
     "name": "stdout",
     "output_type": "stream",
     "text": [
      "Missionaries and Cannibals solution:\n",
      "(CL, ML, Boat, CR, MR)\n",
      "(3, 3, left, 0, 0)\n",
      "(1, 3, right, 2, 0)\n",
      "(2, 3, left, 1, 0)\n",
      "(0, 3, right, 3, 0)\n",
      "(1, 3, left, 2, 0)\n",
      "(1, 1, right, 2, 2)\n",
      "(2, 2, left, 1, 1)\n",
      "(2, 0, right, 1, 3)\n",
      "(3, 0, left, 0, 3)\n",
      "(1, 0, right, 2, 3)\n",
      "(2, 0, left, 1, 3)\n",
      "(0, 0, right, 3, 3)\n"
     ]
    }
   ],
   "source": [
    "class State:\n",
    "    def __init__(self, cl, ml, boat, cr, mr, parent=None):\n",
    "        self.cl, self.ml, self.boat, self.cr, self.mr, self.parent = cl, ml, boat, cr, mr, parent\n",
    "    \n",
    "    def is_goal(self):\n",
    "        return self.cl == self.ml == 0\n",
    "    \n",
    "    def is_valid(self):\n",
    "        return (0 <= self.ml >= self.cl or self.ml == 0) and (0 <= self.mr >= self.cr or self.mr == 0)\n",
    "    \n",
    "    def __eq__(self, other):\n",
    "        return (self.cl, self.ml, self.boat, self.cr, self.mr) == (other.cl, other.ml, other.boat, other.cr, other.mr)\n",
    "    \n",
    "    def __hash__(self):\n",
    "        return hash((self.cl, self.ml, self.boat, self.cr, self.mr))\n",
    "\n",
    "def successors(state):\n",
    "    moves = [(2, 0), (0, 2), (1, 1), (1, 0), (0, 1)]\n",
    "    children = []\n",
    "    direction = -1 if state.boat == 'left' else 1\n",
    "    \n",
    "    for c, m in moves:\n",
    "        new_state = State(state.cl + direction * c, state.ml + direction * m, 'right' if state.boat == 'left' else 'left', \n",
    "                          state.cr - direction * c, state.mr - direction * m, state)\n",
    "        if new_state.is_valid():\n",
    "            children.append(new_state)\n",
    "    return children\n",
    "\n",
    "def bfs():\n",
    "    initial = State(3, 3, 'left', 0, 0)\n",
    "    queue, explored = [initial], set()\n",
    "    \n",
    "    while queue:\n",
    "        state = queue.pop(0)\n",
    "        if state.is_goal():\n",
    "            return state\n",
    "        explored.add(state)\n",
    "        for child in successors(state):\n",
    "            if child not in explored and child not in queue:\n",
    "                queue.append(child)\n",
    "    return None\n",
    "\n",
    "def print_solution(solution):\n",
    "    path = []\n",
    "    while solution:\n",
    "        path.append(solution)\n",
    "        solution = solution.parent\n",
    "    for state in reversed(path):\n",
    "        print(f\"({state.cl}, {state.ml}, {state.boat}, {state.cr}, {state.mr})\")\n",
    "\n",
    "def main():\n",
    "    solution = bfs()\n",
    "    print(\"Missionaries and Cannibals solution:\")\n",
    "    print(\"(CL, ML, Boat, CR, MR)\")\n",
    "    print_solution(solution) if solution else print(\"No solution found.\")\n",
    "\n",
    "if __name__ == \"__main__\":\n",
    "    main()\n"
   ]
  },
  {
   "cell_type": "code",
   "execution_count": null,
   "id": "6f194aa5",
   "metadata": {},
   "outputs": [],
   "source": []
  }
 ],
 "metadata": {
  "kernelspec": {
   "display_name": "Python 3 (ipykernel)",
   "language": "python",
   "name": "python3"
  },
  "language_info": {
   "codemirror_mode": {
    "name": "ipython",
    "version": 3
   },
   "file_extension": ".py",
   "mimetype": "text/x-python",
   "name": "python",
   "nbconvert_exporter": "python",
   "pygments_lexer": "ipython3",
   "version": "3.10.7"
  }
 },
 "nbformat": 4,
 "nbformat_minor": 5
}
