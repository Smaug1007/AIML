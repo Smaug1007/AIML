{
 "cells": [
  {
   "cell_type": "code",
   "execution_count": 2,
   "id": "bda2fcff",
   "metadata": {},
   "outputs": [
    {
     "name": "stdout",
     "output_type": "stream",
     "text": [
      "Current queue: ['A']\n",
      "Popping node: A\n",
      "Visiting node: A\n",
      "Adding neighbor to queue: B\n",
      "Adding neighbor to queue: C\n",
      "Current queue: ['B', 'C']\n",
      "Popping node: B\n",
      "Visiting node: B\n",
      "Adding neighbor to queue: D\n",
      "Adding neighbor to queue: E\n",
      "Current queue: ['C', 'D', 'E']\n",
      "Popping node: C\n",
      "Visiting node: C\n",
      "Adding neighbor to queue: F\n",
      "Current queue: ['D', 'E', 'F']\n",
      "Popping node: D\n",
      "Visiting node: D\n",
      "Current queue: ['E', 'F']\n",
      "Popping node: E\n",
      "Visiting node: E\n",
      "Adding neighbor to queue: F\n",
      "Current queue: ['F', 'F']\n",
      "Popping node: F\n",
      "Visiting node: F\n",
      "Current queue: ['F']\n",
      "Popping node: F\n"
     ]
    }
   ],
   "source": [
    "from collections import deque\n",
    "\n",
    "def BFS(graph, start):\n",
    "    visited = set()\n",
    "    queue = deque([start])\n",
    "    \n",
    "    while queue:\n",
    "        print(f\"Current queue: {list(queue)}\")\n",
    "        \n",
    "        node = queue.popleft()\n",
    "        print(f\"Popping node: {node}\")\n",
    "        \n",
    "        if node not in visited:\n",
    "            print(f\"Visiting node: {node}\")\n",
    "            visited.add(node)\n",
    "            for neighbor in graph[node]:\n",
    "                if neighbor not in visited:\n",
    "                    print(f\"Adding neighbor to queue: {neighbor}\")\n",
    "                    queue.append(neighbor)\n",
    "\n",
    "graph = {\n",
    "    'A': ['B', 'C'],\n",
    "    'B': ['D', 'E'],\n",
    "    'C': ['F'],\n",
    "    'D': [],\n",
    "    'E': ['F'],\n",
    "    'F': []\n",
    "}\n",
    "\n",
    "BFS(graph, 'A')"
   ]
  },
  {
   "cell_type": "code",
   "execution_count": null,
   "id": "73e5a2b4",
   "metadata": {},
   "outputs": [],
   "source": []
  }
 ],
 "metadata": {
  "kernelspec": {
   "display_name": "Python 3 (ipykernel)",
   "language": "python",
   "name": "python3"
  },
  "language_info": {
   "codemirror_mode": {
    "name": "ipython",
    "version": 3
   },
   "file_extension": ".py",
   "mimetype": "text/x-python",
   "name": "python",
   "nbconvert_exporter": "python",
   "pygments_lexer": "ipython3",
   "version": "3.9.12"
  }
 },
 "nbformat": 4,
 "nbformat_minor": 5
}
