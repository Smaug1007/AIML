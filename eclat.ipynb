{
 "cells": [
  {
   "cell_type": "code",
   "execution_count": 11,
   "id": "f2eb64b2",
   "metadata": {},
   "outputs": [
    {
     "name": "stdout",
     "output_type": "stream",
     "text": [
      "{'A'}: 4\n",
      "{'B'}: 4\n",
      "{'C'}: 5\n",
      "{'D'}: 2\n",
      "{'E'}: 2\n",
      "{'A', 'B'}: 3\n",
      "{'A', 'C'}: 4\n",
      "{'A', 'D'}: 2\n",
      "{'C', 'B'}: 4\n",
      "{'E', 'B'}: 2\n",
      "{'C', 'D'}: 2\n",
      "{'C', 'E'}: 2\n",
      "{'A', 'C', 'B'}: 3\n",
      "{'A', 'C', 'D'}: 2\n",
      "{'C', 'E', 'B'}: 2\n"
     ]
    }
   ],
   "source": [
    "def eclat(data, min_support):  \n",
    "    item_tids = {}\n",
    "    for tid, transaction in enumerate(data):\n",
    "        for item in transaction:\n",
    "            if item not in item_tids:\n",
    "                item_tids[item] = set()\n",
    "            item_tids[item].add(tid)\n",
    "\n",
    "\n",
    "    frequent_items = {\n",
    "        frozenset([item]): len(tids)\n",
    "        for item, tids in item_tids.items()\n",
    "        if len(tids) >= min_support\n",
    "    }\n",
    "\n",
    "    results = frequent_items.copy() \n",
    "\n",
    "  \n",
    "    def generate_itemsets(itemsets, tids_dict):\n",
    "        new_itemsets = {}\n",
    "        itemsets_list = list(itemsets.keys())\n",
    "        for i in range(len(itemsets_list)):\n",
    "            for j in range(i + 1, len(itemsets_list)):\n",
    "                itemset1 = itemsets_list[i]\n",
    "                itemset2 = itemsets_list[j]\n",
    "\n",
    "                union_set = itemset1.union(itemset2)\n",
    "\n",
    "                if len(union_set) == len(itemset1) + 1:\n",
    "\n",
    "                    tidset1 = tids_dict[itemset1]\n",
    "                    tidset2 = tids_dict[itemset2]\n",
    "\n",
    "                    intersection_tidset = tidset1.intersection(tidset2)\n",
    "                    support = len(intersection_tidset)\n",
    "\n",
    "                    if support >= min_support:\n",
    "                        new_itemsets[union_set] = support\n",
    "                        tids_dict[union_set] = intersection_tidset\n",
    "\n",
    "        results.update(new_itemsets)\n",
    "        if new_itemsets:\n",
    "            generate_itemsets(new_itemsets, tids_dict)\n",
    "\n",
    "    generate_itemsets(frequent_items, {frozenset([item]): tids for item, tids in item_tids.items()})\n",
    "\n",
    "    return results\n",
    "\n",
    "\n",
    "data = [\n",
    "    ['A', 'B', 'C'],\n",
    "    ['A', 'C', 'D'],\n",
    "    ['B', 'C', 'E'],\n",
    "    ['A', 'B', 'C', 'E'],\n",
    "    ['A', 'B', 'C', 'D']\n",
    "]\n",
    "\n",
    "min_support = 2  \n",
    "\n",
    "frequent_itemsets = eclat(data, min_support)\n",
    "\n",
    "for itemset, support in frequent_itemsets.items():\n",
    "    print(f\"{set(itemset)}: {support}\")"
   ]
  },
  {
   "cell_type": "code",
   "execution_count": null,
   "id": "33d9124a",
   "metadata": {},
   "outputs": [],
   "source": [
    "\n"
   ]
  },
  {
   "cell_type": "code",
   "execution_count": null,
   "id": "1ce94e8a",
   "metadata": {},
   "outputs": [],
   "source": []
  }
 ],
 "metadata": {
  "kernelspec": {
   "display_name": "Python 3 (ipykernel)",
   "language": "python",
   "name": "python3"
  },
  "language_info": {
   "codemirror_mode": {
    "name": "ipython",
    "version": 3
   },
   "file_extension": ".py",
   "mimetype": "text/x-python",
   "name": "python",
   "nbconvert_exporter": "python",
   "pygments_lexer": "ipython3",
   "version": "3.9.12"
  }
 },
 "nbformat": 4,
 "nbformat_minor": 5
}
