{
 "cells": [
  {
   "cell_type": "code",
   "execution_count": 1,
   "id": "70aba35c",
   "metadata": {},
   "outputs": [
    {
     "ename": "ModuleNotFoundError",
     "evalue": "No module named 'mlxtend'",
     "output_type": "error",
     "traceback": [
      "\u001b[0;31m---------------------------------------------------------------------------\u001b[0m",
      "\u001b[0;31mModuleNotFoundError\u001b[0m                       Traceback (most recent call last)",
      "Input \u001b[0;32mIn [1]\u001b[0m, in \u001b[0;36m<cell line: 2>\u001b[0;34m()\u001b[0m\n\u001b[1;32m      1\u001b[0m \u001b[38;5;28;01mimport\u001b[39;00m \u001b[38;5;21;01mpandas\u001b[39;00m \u001b[38;5;28;01mas\u001b[39;00m \u001b[38;5;21;01mpd\u001b[39;00m\n\u001b[0;32m----> 2\u001b[0m \u001b[38;5;28;01mfrom\u001b[39;00m \u001b[38;5;21;01mmlxtend\u001b[39;00m\u001b[38;5;21;01m.\u001b[39;00m\u001b[38;5;21;01mfrequent_patterns\u001b[39;00m \u001b[38;5;28;01mimport\u001b[39;00m apriori, association_rules\n\u001b[1;32m      3\u001b[0m \u001b[38;5;28;01mfrom\u001b[39;00m \u001b[38;5;21;01mmlxtend\u001b[39;00m\u001b[38;5;21;01m.\u001b[39;00m\u001b[38;5;21;01mpreprocessing\u001b[39;00m \u001b[38;5;28;01mimport\u001b[39;00m TransactionEncoder\n\u001b[1;32m      6\u001b[0m dataset \u001b[38;5;241m=\u001b[39m [\n\u001b[1;32m      7\u001b[0m     [\u001b[38;5;124m'\u001b[39m\u001b[38;5;124mMilk\u001b[39m\u001b[38;5;124m'\u001b[39m, \u001b[38;5;124m'\u001b[39m\u001b[38;5;124mEgg\u001b[39m\u001b[38;5;124m'\u001b[39m, \u001b[38;5;124m'\u001b[39m\u001b[38;5;124mBread\u001b[39m\u001b[38;5;124m'\u001b[39m, \u001b[38;5;124m'\u001b[39m\u001b[38;5;124mButter\u001b[39m\u001b[38;5;124m'\u001b[39m],\n\u001b[1;32m      8\u001b[0m     [\u001b[38;5;124m'\u001b[39m\u001b[38;5;124mMilk\u001b[39m\u001b[38;5;124m'\u001b[39m, \u001b[38;5;124m'\u001b[39m\u001b[38;5;124mButter\u001b[39m\u001b[38;5;124m'\u001b[39m, \u001b[38;5;124m'\u001b[39m\u001b[38;5;124mEgg\u001b[39m\u001b[38;5;124m'\u001b[39m, \u001b[38;5;124m'\u001b[39m\u001b[38;5;124mKetchup\u001b[39m\u001b[38;5;124m'\u001b[39m],\n\u001b[0;32m   (...)\u001b[0m\n\u001b[1;32m     18\u001b[0m     [\u001b[38;5;124m'\u001b[39m\u001b[38;5;124mMilk\u001b[39m\u001b[38;5;124m'\u001b[39m, \u001b[38;5;124m'\u001b[39m\u001b[38;5;124mBread\u001b[39m\u001b[38;5;124m'\u001b[39m, \u001b[38;5;124m'\u001b[39m\u001b[38;5;124mCookies\u001b[39m\u001b[38;5;124m'\u001b[39m, \u001b[38;5;124m'\u001b[39m\u001b[38;5;124mKetchup\u001b[39m\u001b[38;5;124m'\u001b[39m]\n\u001b[1;32m     19\u001b[0m ]\n",
      "\u001b[0;31mModuleNotFoundError\u001b[0m: No module named 'mlxtend'"
     ]
    }
   ],
   "source": []
  },
  {
   "cell_type": "code",
   "execution_count": 2,
   "id": "889c855c",
   "metadata": {},
   "outputs": [
    {
     "name": "stdout",
     "output_type": "stream",
     "text": [
      "Defaulting to user installation because normal site-packages is not writeable\n",
      "Collecting mlxtend\n",
      "  Downloading mlxtend-0.23.4-py3-none-any.whl (1.4 MB)\n",
      "\u001b[K     |████████████████████████████████| 1.4 MB 3.1 MB/s eta 0:00:01\n",
      "\u001b[?25hRequirement already satisfied: scipy>=1.2.1 in /opt/anaconda/lib/python3.9/site-packages (from mlxtend) (1.7.3)\n",
      "Requirement already satisfied: joblib>=0.13.2 in /opt/anaconda/lib/python3.9/site-packages (from mlxtend) (1.1.0)\n",
      "Requirement already satisfied: matplotlib>=3.0.0 in /opt/anaconda/lib/python3.9/site-packages (from mlxtend) (3.5.1)\n",
      "Requirement already satisfied: pandas>=0.24.2 in /opt/anaconda/lib/python3.9/site-packages (from mlxtend) (1.4.2)\n",
      "Requirement already satisfied: numpy>=1.16.2 in /opt/anaconda/lib/python3.9/site-packages (from mlxtend) (1.21.5)\n",
      "Collecting scikit-learn>=1.3.1\n",
      "  Downloading scikit_learn-1.6.1-cp39-cp39-manylinux_2_17_x86_64.manylinux2014_x86_64.whl (13.5 MB)\n",
      "\u001b[K     |████████████████████████████████| 13.5 MB 12 kB/s  eta 0:00:01    |██████▍                         | 2.7 MB 8.7 MB/s eta 0:00:02     |██████████▋                     | 4.5 MB 8.7 MB/s eta 0:00:02     |████████████                    | 5.1 MB 8.7 MB/s eta 0:00:01\n",
      "\u001b[?25hRequirement already satisfied: packaging>=20.0 in /opt/anaconda/lib/python3.9/site-packages (from matplotlib>=3.0.0->mlxtend) (21.3)\n",
      "Requirement already satisfied: pillow>=6.2.0 in /opt/anaconda/lib/python3.9/site-packages (from matplotlib>=3.0.0->mlxtend) (9.0.1)\n",
      "Requirement already satisfied: kiwisolver>=1.0.1 in /opt/anaconda/lib/python3.9/site-packages (from matplotlib>=3.0.0->mlxtend) (1.3.2)\n",
      "Requirement already satisfied: fonttools>=4.22.0 in /opt/anaconda/lib/python3.9/site-packages (from matplotlib>=3.0.0->mlxtend) (4.25.0)\n",
      "Requirement already satisfied: cycler>=0.10 in /opt/anaconda/lib/python3.9/site-packages (from matplotlib>=3.0.0->mlxtend) (0.11.0)\n",
      "Requirement already satisfied: pyparsing>=2.2.1 in /opt/anaconda/lib/python3.9/site-packages (from matplotlib>=3.0.0->mlxtend) (3.0.4)\n",
      "Requirement already satisfied: python-dateutil>=2.7 in /opt/anaconda/lib/python3.9/site-packages (from matplotlib>=3.0.0->mlxtend) (2.8.2)\n",
      "Requirement already satisfied: pytz>=2020.1 in /opt/anaconda/lib/python3.9/site-packages (from pandas>=0.24.2->mlxtend) (2021.3)\n",
      "Requirement already satisfied: six>=1.5 in /opt/anaconda/lib/python3.9/site-packages (from python-dateutil>=2.7->matplotlib>=3.0.0->mlxtend) (1.16.0)\n",
      "Collecting joblib>=0.13.2\n",
      "  Downloading joblib-1.4.2-py3-none-any.whl (301 kB)\n",
      "\u001b[K     |████████████████████████████████| 301 kB 8.1 MB/s eta 0:00:01    |███▎                            | 30 kB 8.6 MB/s eta 0:00:01\n",
      "\u001b[?25hCollecting threadpoolctl>=3.1.0\n",
      "  Downloading threadpoolctl-3.5.0-py3-none-any.whl (18 kB)\n",
      "Installing collected packages: threadpoolctl, joblib, scikit-learn, mlxtend\n",
      "Successfully installed joblib-1.4.2 mlxtend-0.23.4 scikit-learn-1.6.1 threadpoolctl-3.5.0\n"
     ]
    }
   ],
   "source": [
    "\n"
   ]
  },
  {
   "cell_type": "code",
   "execution_count": 3,
   "id": "e8881c67",
   "metadata": {},
   "outputs": [
    {
     "name": "stdout",
     "output_type": "stream",
     "text": [
      "Frequent Itemsets:\n",
      "    support               itemsets\n",
      "0  0.833333                (Bread)\n",
      "1  0.833333               (Butter)\n",
      "2  0.416667              (Cookies)\n",
      "3  0.750000                 (Milk)\n",
      "4  0.750000        (Butter, Bread)\n",
      "5  0.333333       (Cookies, Bread)\n",
      "6  0.583333          (Milk, Bread)\n",
      "7  0.583333         (Milk, Butter)\n",
      "8  0.500000  (Milk, Butter, Bread)\n",
      "\n",
      "Association Rules:\n",
      "      antecedents     consequents  antecedent support  consequent support  \\\n",
      "0        (Butter)         (Bread)            0.833333            0.833333   \n",
      "1         (Bread)        (Butter)            0.833333            0.833333   \n",
      "2  (Milk, Butter)         (Bread)            0.583333            0.833333   \n",
      "3   (Milk, Bread)        (Butter)            0.583333            0.833333   \n",
      "4        (Butter)   (Milk, Bread)            0.833333            0.583333   \n",
      "5         (Bread)  (Milk, Butter)            0.833333            0.583333   \n",
      "\n",
      "   support  confidence      lift  representativity  leverage  conviction  \\\n",
      "0     0.75    0.900000  1.080000               1.0  0.055556    1.666667   \n",
      "1     0.75    0.900000  1.080000               1.0  0.055556    1.666667   \n",
      "2     0.50    0.857143  1.028571               1.0  0.013889    1.166667   \n",
      "3     0.50    0.857143  1.028571               1.0  0.013889    1.166667   \n",
      "4     0.50    0.600000  1.028571               1.0  0.013889    1.041667   \n",
      "5     0.50    0.600000  1.028571               1.0  0.013889    1.041667   \n",
      "\n",
      "   zhangs_metric   jaccard  certainty  kulczynski  \n",
      "0       0.444444  0.818182   0.400000    0.900000  \n",
      "1       0.444444  0.818182   0.400000    0.900000  \n",
      "2       0.066667  0.545455   0.142857    0.728571  \n",
      "3       0.066667  0.545455   0.142857    0.728571  \n",
      "4       0.166667  0.545455   0.040000    0.728571  \n",
      "5       0.166667  0.545455   0.040000    0.728571  \n"
     ]
    }
   ],
   "source": [
    "from mlxtend.frequent_patterns import apriori, association_rules\n",
    "from mlxtend.preprocessing import TransactionEncoder\n",
    "\n",
    "\n",
    "dataset = [\n",
    "    ['Milk', 'Egg', 'Bread', 'Butter'],\n",
    "    ['Milk', 'Butter', 'Egg', 'Ketchup'],\n",
    "    ['Bread', 'Butter', 'Ketchup'],\n",
    "    ['Milk', 'Bread','Butter'],\n",
    "    ['Bread', 'Butter', 'Cookies'],\n",
    "    ['Milk', 'Bread', 'Butter', 'Cookies'],\n",
    "    ['Milk', 'Cookies'],\n",
    "    ['Milk', 'Bread', 'Butter'],\n",
    "    ['Bread', 'Butter', 'Egg', 'Cookies'],\n",
    "    ['Milk', 'Butter', 'Bread'],\n",
    "    ['Milk', 'Bread', 'Butter'],\n",
    "    ['Milk', 'Bread', 'Cookies', 'Ketchup']\n",
    "]\n",
    "\n",
    "\n",
    "te = TransactionEncoder()\n",
    "te_ary = te.fit(dataset).transform(dataset)\n",
    "\n",
    "\n",
    "df = pd.DataFrame(te_ary, columns=te.columns_)\n",
    "\n",
    "\n",
    "frequent_itemsets = apriori(df, min_support=0.3, use_colnames=True)  \n",
    "\n",
    "\n",
    "rules = association_rules(frequent_itemsets, metric=\"lift\", min_threshold=1.0)\n",
    "\n",
    "\n",
    "print(\"Frequent Itemsets:\")\n",
    "print(frequent_itemsets)\n",
    "print(\"\\nAssociation Rules:\")\n",
    "print(rules)"
   ]
  },
  {
   "cell_type": "code",
   "execution_count": null,
   "id": "2f1cf65b",
   "metadata": {},
   "outputs": [],
   "source": []
  }
 ],
 "metadata": {
  "kernelspec": {
   "display_name": "Python 3 (ipykernel)",
   "language": "python",
   "name": "python3"
  },
  "language_info": {
   "codemirror_mode": {
    "name": "ipython",
    "version": 3
   },
   "file_extension": ".py",
   "mimetype": "text/x-python",
   "name": "python",
   "nbconvert_exporter": "python",
   "pygments_lexer": "ipython3",
   "version": "3.10.7"
  }
 },
 "nbformat": 4,
 "nbformat_minor": 5
}
