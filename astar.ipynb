{
 "cells": [
  {
   "cell_type": "code",
   "execution_count": 2,
   "id": "7c5ee657",
   "metadata": {},
   "outputs": [
    {
     "name": "stdout",
     "output_type": "stream",
     "text": [
      "Current open set: [(0, (0, 0))]\n",
      "Removing node: (0, 0)\n",
      "Evaluating neighbor: (0, 1), tentative g-score: 1, f-score: 2\n",
      "Adding neighbor to open set: (0, 1) with f-score: 2\n",
      "Evaluating neighbor: (1, 0), tentative g-score: 1, f-score: 2\n",
      "Adding neighbor to open set: (1, 0) with f-score: 2\n",
      "Current open set: [(2, (0, 1)), (2, (1, 0))]\n",
      "Removing node: (0, 1)\n",
      "Evaluating neighbor: (1, 1), tentative g-score: 2, f-score: 2\n",
      "Adding neighbor to open set: (1, 1) with f-score: 2\n",
      "Current open set: [(2, (1, 0)), (2, (1, 1))]\n",
      "Removing node: (1, 0)\n",
      "Current open set: [(2, (1, 1))]\n",
      "Removing node: (1, 1)\n",
      "Path found: [(0, 1), (1, 1)]\n"
     ]
    }
   ],
   "source": [
    "import heapq\n",
    "\n",
    "def heuristic(a, b):\n",
    "    return abs(a[0] - b[0]) + abs(a[1] - b[1])\n",
    "\n",
    "def A_star(graph, start, goal):\n",
    "    open_set = []\n",
    "    heapq.heappush(open_set, (0, start))\n",
    "    came_from = {}\n",
    "    g_score = {node: float('inf') for node in graph}\n",
    "    g_score[start] = 0\n",
    "    f_score = {node: float('inf') for node in graph}\n",
    "    f_score[start] = heuristic(start, goal)\n",
    "\n",
    "    while open_set:\n",
    "        \n",
    "        print(f\"Current open set: {[(f, node) for f, node in open_set]}\")\n",
    "        \n",
    "        current = heapq.heappop(open_set)[1]\n",
    "        print(f\"Removing node: {current}\")\n",
    "\n",
    "        if current == goal:\n",
    "            path = []\n",
    "            while current in came_from:\n",
    "                path.append(current)\n",
    "                current = came_from[current]\n",
    "            return path[::-1]\n",
    "\n",
    "        for neighbor in graph[current]:\n",
    "            tentative_g_score = g_score[current] + 1\n",
    "            if tentative_g_score < g_score[neighbor]:\n",
    "                came_from[neighbor] = current\n",
    "                g_score[neighbor] = tentative_g_score\n",
    "                f_score[neighbor] = g_score[neighbor] + heuristic(neighbor, goal)\n",
    "                print(f\"Evaluating neighbor: {neighbor}, tentative g-score: {tentative_g_score}, f-score: {f_score[neighbor]}\")\n",
    "                \n",
    "                if neighbor not in [i[1] for i in open_set]:\n",
    "                    heapq.heappush(open_set, (f_score[neighbor], neighbor))\n",
    "                    print(f\"Adding neighbor to open set: {neighbor} with f-score: {f_score[neighbor]}\")\n",
    "\n",
    "    return []\n",
    "\n",
    "graph = {\n",
    "    (0, 0): [(0, 1), (1, 0)],\n",
    "    (0, 1): [(0, 0), (1, 1)],\n",
    "    (1, 0): [(0, 0), (1, 1)],\n",
    "    (1, 1): [(0, 1), (1, 0)]\n",
    "}\n",
    "\n",
    "start = (0, 0)\n",
    "goal = (1, 1)\n",
    "path = A_star(graph, start, goal)\n",
    "print(\"Path found:\", path)"
   ]
  },
  {
   "cell_type": "code",
   "execution_count": null,
   "id": "da61f3c6",
   "metadata": {},
   "outputs": [],
   "source": []
  }
 ],
 "metadata": {
  "kernelspec": {
   "display_name": "Python 3 (ipykernel)",
   "language": "python",
   "name": "python3"
  },
  "language_info": {
   "codemirror_mode": {
    "name": "ipython",
    "version": 3
   },
   "file_extension": ".py",
   "mimetype": "text/x-python",
   "name": "python",
   "nbconvert_exporter": "python",
   "pygments_lexer": "ipython3",
   "version": "3.9.12"
  }
 },
 "nbformat": 4,
 "nbformat_minor": 5
}
