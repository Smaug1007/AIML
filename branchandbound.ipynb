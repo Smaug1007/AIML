{
 "cells": [
  {
   "cell_type": "code",
   "execution_count": 3,
   "id": "27d0c259",
   "metadata": {},
   "outputs": [
    {
     "name": "stdout",
     "output_type": "stream",
     "text": [
      "Maximum value in Knapsack = 220\n"
     ]
    }
   ],
   "source": [
    "class Item:\n",
    "    def __init__(self, value, weight):\n",
    "        self.value = value\n",
    "        self.weight = weight\n",
    "        self.ratio = value / weight if weight > 0 else 0\n",
    "        self.index = -1\n",
    "\n",
    "def bound(node, capacity, items):\n",
    "    if node.weight >= capacity:\n",
    "        return 0\n",
    "    bound_value = node.value\n",
    "    j = node.index + 1\n",
    "    total_weight = node.weight\n",
    "    while j < len(items) and total_weight + items[j].weight <= capacity:\n",
    "        total_weight += items[j].weight\n",
    "        bound_value += items[j].value\n",
    "        j += 1\n",
    "    if j < len(items):\n",
    "        bound_value += (capacity - total_weight) * items[j].ratio\n",
    "    return bound_value\n",
    "\n",
    "def knapsack(capacity, items):\n",
    "    items.sort(key=lambda x: x.ratio, reverse=True)\n",
    "    max_value = 0\n",
    "    queue = []\n",
    "    queue.append(Item(0, 0))\n",
    "    while queue:\n",
    "        current_node = queue.pop(0)\n",
    "        if current_node.value > max_value:\n",
    "            max_value = current_node.value\n",
    "        next_index = current_node.index + 1\n",
    "        if next_index < len(items):\n",
    "            with_item = Item(current_node.value + items[next_index].value,\n",
    "                             current_node.weight + items[next_index].weight)\n",
    "            with_item.index = next_index\n",
    "            if with_item.weight <= capacity:\n",
    "                queue.append(with_item)\n",
    "            without_item = Item(current_node.value, current_node.weight)\n",
    "            without_item.index = next_index\n",
    "            if bound(without_item, capacity, items) > max_value:\n",
    "                queue.append(without_item)\n",
    "    return max_value\n",
    "\n",
    "if __name__ == \"__main__\":\n",
    "    items = [Item(60, 10), Item(100, 20), Item(120, 30)]\n",
    "    capacity = 50\n",
    "    max_value = knapsack(capacity, items)\n",
    "    print(\"Maximum value in Knapsack =\", max_value)"
   ]
  },
  {
   "cell_type": "code",
   "execution_count": null,
   "id": "c5ab10c6",
   "metadata": {},
   "outputs": [],
   "source": []
  }
 ],
 "metadata": {
  "kernelspec": {
   "display_name": "Python 3 (ipykernel)",
   "language": "python",
   "name": "python3"
  },
  "language_info": {
   "codemirror_mode": {
    "name": "ipython",
    "version": 3
   },
   "file_extension": ".py",
   "mimetype": "text/x-python",
   "name": "python",
   "nbconvert_exporter": "python",
   "pygments_lexer": "ipython3",
   "version": "3.9.12"
  }
 },
 "nbformat": 4,
 "nbformat_minor": 5
}
