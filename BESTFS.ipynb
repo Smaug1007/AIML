{
 "cells": [
  {
   "cell_type": "code",
   "execution_count": 2,
   "id": "2b0dab2e",
   "metadata": {},
   "outputs": [
    {
     "name": "stdout",
     "output_type": "stream",
     "text": [
      "Processing node: A with heuristic: 7\n",
      "Adding child to open set: B with heuristic: 6\n",
      "Adding child to open set: C with heuristic: 2\n",
      "Processing node: C with heuristic: 2\n",
      "Adding child to open set: D with heuristic: 1\n",
      "Processing node: D with heuristic: 1\n",
      "Adding child to open set: E with heuristic: 0\n",
      "Processing node: E with heuristic: 0\n",
      "Path found: ['E']\n"
     ]
    }
   ],
   "source": [
    "import heapq\n",
    "\n",
    "class Node:\n",
    "    def __init__(self, name, heuristic):\n",
    "        self.name = name\n",
    "        self.heuristic = heuristic\n",
    "        self.children = []\n",
    "        self.parent = None\n",
    "\n",
    "def best_first_search(start, goal):\n",
    "    open_set = []\n",
    "    heapq.heappush(open_set, (start.heuristic, start))\n",
    "    visited = set()\n",
    "\n",
    "    while open_set:\n",
    "        current = heapq.heappop(open_set)[1]\n",
    "        print(f\"Processing node: {current.name} with heuristic: {current.heuristic}\")\n",
    "\n",
    "        if current.name == goal:\n",
    "            return reconstruct_path(current)\n",
    "\n",
    "        visited.add(current.name)\n",
    "\n",
    "        for child in current.children:\n",
    "            if child.name not in visited:\n",
    "                heapq.heappush(open_set, (child.heuristic, child))\n",
    "                print(f\"Adding child to open set: {child.name} with heuristic: {child.heuristic}\")\n",
    "\n",
    "    return None\n",
    "\n",
    "def reconstruct_path(node):\n",
    "    path = []\n",
    "    while node:\n",
    "        path.append(node.name)\n",
    "        node = node.parent\n",
    "    return path[::-1]\n",
    "\n",
    "A = Node('A', 7)\n",
    "B = Node('B', 6)\n",
    "C = Node('C', 2)\n",
    "D = Node('D', 1)\n",
    "E = Node('E', 0)\n",
    "\n",
    "A.children = [B, C]\n",
    "B.children = [D]\n",
    "C.children = [D]\n",
    "D.children = [E]\n",
    "\n",
    "path = best_first_search(A, 'E')\n",
    "print(\"Path found:\", path)"
   ]
  },
  {
   "cell_type": "code",
   "execution_count": null,
   "id": "fa6022d3",
   "metadata": {},
   "outputs": [],
   "source": []
  }
 ],
 "metadata": {
  "kernelspec": {
   "display_name": "Python 3 (ipykernel)",
   "language": "python",
   "name": "python3"
  },
  "language_info": {
   "codemirror_mode": {
    "name": "ipython",
    "version": 3
   },
   "file_extension": ".py",
   "mimetype": "text/x-python",
   "name": "python",
   "nbconvert_exporter": "python",
   "pygments_lexer": "ipython3",
   "version": "3.9.12"
  }
 },
 "nbformat": 4,
 "nbformat_minor": 5
}
