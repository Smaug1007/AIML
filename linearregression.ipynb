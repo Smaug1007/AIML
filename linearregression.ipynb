{
 "cells": [
  {
   "cell_type": "code",
   "execution_count": 7,
   "id": "557eeac2",
   "metadata": {},
   "outputs": [
    {
     "name": "stdout",
     "output_type": "stream",
     "text": [
      "           id             date     price  bedrooms  bathrooms  sqft_living  \\\n",
      "0  7129300520  20141013T000000  221900.0         3       1.00         1180   \n",
      "1  6414100192  20141209T000000  538000.0         3       2.25         2570   \n",
      "2  5631500400  20150225T000000  180000.0         2       1.00          770   \n",
      "3  2487200875  20141209T000000  604000.0         4       3.00         1960   \n",
      "4  1954400510  20150218T000000  510000.0         3       2.00         1680   \n",
      "\n",
      "   sqft_lot  floors  waterfront  view  ...  grade  sqft_above  sqft_basement  \\\n",
      "0      5650     1.0           0     0  ...      7        1180              0   \n",
      "1      7242     2.0           0     0  ...      7        2170            400   \n",
      "2     10000     1.0           0     0  ...      6         770              0   \n",
      "3      5000     1.0           0     0  ...      7        1050            910   \n",
      "4      8080     1.0           0     0  ...      8        1680              0   \n",
      "\n",
      "   yr_built  yr_renovated  zipcode      lat     long  sqft_living15  \\\n",
      "0      1955             0    98178  47.5112 -122.257           1340   \n",
      "1      1951          1991    98125  47.7210 -122.319           1690   \n",
      "2      1933             0    98028  47.7379 -122.233           2720   \n",
      "3      1965             0    98136  47.5208 -122.393           1360   \n",
      "4      1987             0    98074  47.6168 -122.045           1800   \n",
      "\n",
      "   sqft_lot15  \n",
      "0        5650  \n",
      "1        7639  \n",
      "2        8062  \n",
      "3        5000  \n",
      "4        7503  \n",
      "\n",
      "[5 rows x 21 columns]\n",
      "Simple Linear Regression - Mean Squared Error: 76484977061.77611\n",
      "Simple Linear Regression - R^2 Score: 0.4940690538908902\n"
     ]
    },
    {
     "data": {
      "image/png": "[encoded data removed]",
      "text/plain": [
       "<Figure size 432x288 with 1 Axes>"
      ]
     },
     "metadata": {
      "needs_background": "light"
     },
     "output_type": "display_data"
    },
    {
     "name": "stdout",
     "output_type": "stream",
     "text": [
      "Multiple Linear Regression - Mean Squared Error: 73287795746.3108\n",
      "Multiple Linear Regression - R^2 Score: 0.5152176902630924\n"
     ]
    }
   ],
   "source": [
    "\n",
    "import pandas as pd\n",
    "import numpy as np\n",
    "import matplotlib.pyplot as plt\n",
    "import seaborn as sns\n",
    "from sklearn.model_selection import train_test_split\n",
    "from sklearn.linear_model import LinearRegression\n",
    "from sklearn.metrics import mean_squared_error, r2_score\n",
    "\n",
    "\n",
    "data = pd.read_csv('House_price_prediction.csv')\n",
    "\n",
    "\n",
    "print(data.head())\n",
    "\n",
    "\n",
    "X_simple = data['sqft_living'].values.reshape(-1,1)\n",
    "y = data['price'].values\n",
    "\n",
    "\n",
    "X_train, X_test, y_train, y_test = train_test_split(X_simple, y, test_size=0.2, random_state=42)\n",
    "\n",
    "\n",
    "simple_model = LinearRegression()\n",
    "simple_model.fit(X_train, y_train)\n",
    "\n",
    "\n",
    "y_pred_simple = simple_model.predict(X_test)\n",
    "\n",
    "mse_simple = mean_squared_error(y_test, y_pred_simple)\n",
    "r2_simple = r2_score(y_test, y_pred_simple)\n",
    "\n",
    "print(f\"Simple Linear Regression - Mean Squared Error: {mse_simple}\")\n",
    "print(f\"Simple Linear Regression - R^2 Score: {r2_simple}\")\n",
    "\n",
    "\n",
    "plt.scatter(X_test, y_test, color='blue', label='True values')\n",
    "plt.plot(X_test, y_pred_simple, color='red', label='Predicted values')\n",
    "plt.title('Simple Linear Regression: Price vs. sqft_living')\n",
    "plt.xlabel('Square Footage (sqft_living)')\n",
    "plt.ylabel('Price')\n",
    "plt.legend()\n",
    "plt.show()\n",
    "\n",
    "\n",
    "X_multiple = data[['sqft_living', 'bedrooms', 'bathrooms', 'sqft_lot', 'floors', 'zipcode']]\n",
    "y = data['price']\n",
    "\n",
    "\n",
    "X_train, X_test, y_train, y_test = train_test_split(X_multiple, y, test_size=0.2, random_state=42)\n",
    "\n",
    "\n",
    "multiple_model = LinearRegression()\n",
    "multiple_model.fit(X_train, y_train)\n",
    "\n",
    "\n",
    "y_pred_multiple = multiple_model.predict(X_test)\n",
    "\n",
    "\n",
    "\n",
    "mse_multiple = mean_squared_error(y_test, y_pred_multiple)\n",
    "r2_multiple = r2_score(y_test, y_pred_multiple)\n",
    "\n",
    "print(f\"Multiple Linear Regression - Mean Squared Error: {mse_multiple}\")\n",
    "print(f\"Multiple Linear Regression - R^2 Score: {r2_multiple}\")\n"
   ]
  },
  {
   "cell_type": "code",
   "execution_count": null,
   "id": "723ceae4",
   "metadata": {},
   "outputs": [],
   "source": [
    "\n"
   ]
  },
  {
   "cell_type": "code",
   "execution_count": null,
   "id": "fc07fa70",
   "metadata": {},
   "outputs": [],
   "source": []
  }
 ],
 "metadata": {
  "kernelspec": {
   "display_name": "Python 3 (ipykernel)",
   "language": "python",
   "name": "python3"
  },
  "language_info": {
   "codemirror_mode": {
    "name": "ipython",
    "version": 3
   },
   "file_extension": ".py",
   "mimetype": "text/x-python",
   "name": "python",
   "nbconvert_exporter": "python",
   "pygments_lexer": "ipython3",
   "version": "3.9.12"
  }
 },
 "nbformat": 4,
 "nbformat_minor": 5
}
