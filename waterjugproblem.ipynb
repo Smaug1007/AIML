{
 "cells": [
  {
   "cell_type": "code",
   "execution_count": 13,
   "id": "8684960d",
   "metadata": {},
   "outputs": [
    {
     "name": "stdout",
     "output_type": "stream",
     "text": [
      "Minimum number of steps required is 6\n",
      "Steps taken:\n",
      "Step 1: Pour 3 liters from jug with capacity 5 to jug with capacity 3.\n",
      "Step 2: Empty the jug with capacity 3.\n",
      "Step 3: Pour 2 liters from jug with capacity 5 to jug with capacity 3.\n",
      "Step 4: Fill the jug with capacity 5.\n",
      "Step 5: Pour 1 liters from jug with capacity 5 to jug with capacity 3.\n"
     ]
    }
   ],
   "source": [
    "def gcd(a, b):\n",
    "    if b == 0:\n",
    "        return a\n",
    "    return gcd(b, a % b)\n",
    "\n",
    "def Pour(toJugCap, fromJugCap, d):\n",
    "    fromJug = fromJugCap\n",
    "    toJug = 0\n",
    "    step = 1\n",
    "    steps = []  \n",
    "    while (fromJug != d and toJug != d):\n",
    "     \n",
    "        temp = min(fromJug, toJugCap - toJug)\n",
    "\n",
    "        \n",
    "        toJug += temp\n",
    "        fromJug -= temp\n",
    "\n",
    "        steps.append(f\"Step {step}: Pour {temp} liters from jug with capacity {fromJugCap} to jug with capacity {toJugCap}.\")\n",
    "        step += 1\n",
    "\n",
    "        if (fromJug == d or toJug == d):\n",
    "            break\n",
    "\n",
    "        \n",
    "        if fromJug == 0:\n",
    "            fromJug = fromJugCap\n",
    "            steps.append(f\"Step {step}: Fill the jug with capacity {fromJugCap}.\")\n",
    "            step += 1\n",
    "\n",
    "       \n",
    "        if toJug == toJugCap:\n",
    "            toJug = 0\n",
    "            steps.append(f\"Step {step}: Empty the jug with capacity {toJugCap}.\")\n",
    "            step += 1\n",
    "\n",
    "    return step, steps\n",
    "\n",
    "def minSteps(n, m, d):\n",
    "    if m > n:\n",
    "        temp = m\n",
    "        m = n\n",
    "        n = temp\n",
    "\n",
    "    if (d % gcd(n, m) != 0):\n",
    "        return -1, [] \n",
    "\n",
    " \n",
    "    steps1 = Pour(n, m, d)\n",
    "    steps2 = Pour(m, n, d)\n",
    "\n",
    "    if steps1[0] < steps2[0]:\n",
    "        return steps1\n",
    "    else:\n",
    "        return steps2\n",
    "\n",
    "\n",
    "if __name__ == '__main__':\n",
    "    n = 3  \n",
    "    m = 5  \n",
    "    d = 4  \n",
    "\n",
    "    steps_count, steps = minSteps(n, m, d)\n",
    "\n",
    "    if steps_count == -1:\n",
    "        print(\"It's not possible to measure the desired amount.\")\n",
    "    else:\n",
    "        print('Minimum number of steps required is', steps_count)\n",
    "        print(\"Steps taken:\")\n",
    "        for step in steps:\n",
    "            print(step)"
   ]
  },
  {
   "cell_type": "code",
   "execution_count": null,
   "id": "c6a977b7",
   "metadata": {},
   "outputs": [],
   "source": []
  }
 ],
 "metadata": {
  "kernelspec": {
   "display_name": "Python 3 (ipykernel)",
   "language": "python",
   "name": "python3"
  },
  "language_info": {
   "codemirror_mode": {
    "name": "ipython",
    "version": 3
   },
   "file_extension": ".py",
   "mimetype": "text/x-python",
   "name": "python",
   "nbconvert_exporter": "python",
   "pygments_lexer": "ipython3",
   "version": "3.9.12"
  }
 },
 "nbformat": 4,
 "nbformat_minor": 5
}
