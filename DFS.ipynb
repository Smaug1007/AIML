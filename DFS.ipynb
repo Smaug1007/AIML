{
 "cells": [
  {
   "cell_type": "code",
   "execution_count": 2,
   "id": "b23982fb",
   "metadata": {},
   "outputs": [
    {
     "name": "stdout",
     "output_type": "stream",
     "text": [
      "Current stack: ['A']\n",
      "Removing node: A\n",
      "Visiting node: A\n",
      "Adding neighbor to stack: C\n",
      "Adding neighbor to stack: B\n",
      "Current stack: ['C', 'B']\n",
      "Removing node: B\n",
      "Visiting node: B\n",
      "Adding neighbor to stack: E\n",
      "Adding neighbor to stack: D\n",
      "Current stack: ['C', 'E', 'D']\n",
      "Removing node: D\n",
      "Visiting node: D\n",
      "Current stack: ['C', 'E']\n",
      "Removing node: E\n",
      "Visiting node: E\n",
      "Adding neighbor to stack: F\n",
      "Current stack: ['C', 'F']\n",
      "Removing node: F\n",
      "Visiting node: F\n",
      "Current stack: ['C']\n",
      "Removing node: C\n",
      "Visiting node: C\n"
     ]
    }
   ],
   "source": [
    "def DFS(graph, start):\n",
    "    visited = set()\n",
    "    stack = [start]\n",
    "    \n",
    "    while stack:\n",
    "     \n",
    "        print(f\"Current stack: {stack}\")\n",
    "        \n",
    "        node = stack.pop()\n",
    "        print(f\"Removing node: {node}\")\n",
    "        \n",
    "        if node not in visited:\n",
    "            print(f\"Visiting node: {node}\")\n",
    "            visited.add(node)\n",
    "            \n",
    "            for neighbor in reversed(graph[node]):\n",
    "                if neighbor not in visited:\n",
    "                    print(f\"Adding neighbor to stack: {neighbor}\")\n",
    "                    stack.append(neighbor)\n",
    "\n",
    "graph = {\n",
    "    'A': ['B', 'C'],\n",
    "    'B': ['D', 'E'],\n",
    "    'C': ['F'],\n",
    "    'D': [],\n",
    "    'E': ['F'],\n",
    "    'F': []\n",
    "}\n",
    "\n",
    "DFS(graph, 'A')"
   ]
  },
  {
   "cell_type": "code",
   "execution_count": null,
   "id": "8439ab4c",
   "metadata": {},
   "outputs": [],
   "source": []
  }
 ],
 "metadata": {
  "kernelspec": {
   "display_name": "Python 3 (ipykernel)",
   "language": "python",
   "name": "python3"
  },
  "language_info": {
   "codemirror_mode": {
    "name": "ipython",
    "version": 3
   },
   "file_extension": ".py",
   "mimetype": "text/x-python",
   "name": "python",
   "nbconvert_exporter": "python",
   "pygments_lexer": "ipython3",
   "version": "3.9.12"
  }
 },
 "nbformat": 4,
 "nbformat_minor": 5
}
