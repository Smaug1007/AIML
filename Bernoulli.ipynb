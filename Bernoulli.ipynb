{
 "cells": [
  {
   "cell_type": "code",
   "execution_count": null,
   "id": "bb2bc90b",
   "metadata": {},
   "outputs": [
    {
     "name": "stdout",
     "output_type": "stream",
     "text": [
      "Gaussian Naïve Bayes Accuracy: 0.9\n",
      "Gaussian Naïve Bayes Confusion Matrix:\n",
      " [[65  3]\n",
      " [ 7 25]] \n",
      "\n",
      "\n",
      "Multinomial Naïve Bayes Accuracy: 0.68\n",
      "Multinomial Naïve Bayes Confusion Matrix:\n",
      " [[68  0]\n",
      " [32  0]] \n",
      "\n",
      "\n",
      "Bernoulli Naïve Bayes Accuracy: 0.79\n",
      "Bernoulli Naïve Bayes Confusion Matrix:\n",
      " [[63  5]\n",
      " [16 16]] \n",
      "\n",
      "\n"
     ]
    }
   ],
   "source": [
    "import pandas as pd\n",
    "import numpy as np\n",
    "from sklearn.model_selection import train_test_split\n",
    "from sklearn.preprocessing import StandardScaler\n",
    "from sklearn.naive_bayes import BernoulliNB\n",
    "from sklearn.metrics import confusion_matrix, accuracy_score\n",
    "\n",
    "df = pd.read_csv('SNA.csv')\n",
    "\n",
    "X = df.iloc[:, [2, 3]].values\n",
    "y = df.iloc[:, 4].values\n",
    "\n",
    "X_train, X_test, y_train, y_test = train_test_split(X, y, test_size=0.25, random_state=0)\n",
    "\n",
    "scaler = StandardScaler()\n",
    "X_train = scaler.fit_transform(X_train)\n",
    "X_test = scaler.transform(X_test)\n",
    "\n",
    "X_train_bernoulli = (X_train > 0).astype(int)\n",
    "X_test_bernoulli = (X_test > 0).astype(int)\n",
    "\n",
    "bernoulli_classifier = BernoulliNB()\n",
    "bernoulli_classifier.fit(X_train_bernoulli, y_train)\n",
    "y_pred_bernoulli = bernoulli_classifier.predict(X_test_bernoulli)\n",
    "print(\"Bernoulli Naïve Bayes Accuracy:\", accuracy_score(y_test, y_pred_bernoulli))\n",
    "print(\"Bernoulli Naïve Bayes Confusion Matrix:\\n\", confusion_matrix(y_test, y_pred_bernoulli), \"\\n\\n\")"
   ]
  },
  {
   "cell_type": "code",
   "execution_count": null,
   "id": "2944a6d9",
   "metadata": {},
   "outputs": [],
   "source": []
  }
 ],
 "metadata": {
  "kernelspec": {
   "display_name": "Python 3 (ipykernel)",
   "language": "python",
   "name": "python3"
  },
  "language_info": {
   "codemirror_mode": {
    "name": "ipython",
    "version": 3
   },
   "file_extension": ".py",
   "mimetype": "text/x-python",
   "name": "python",
   "nbconvert_exporter": "python",
   "pygments_lexer": "ipython3",
   "version": "3.9.12"
  }
 },
 "nbformat": 4,
 "nbformat_minor": 5
}
